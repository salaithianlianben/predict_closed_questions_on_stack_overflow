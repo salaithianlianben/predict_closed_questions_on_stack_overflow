{
 "cells": [
  {
   "cell_type": "code",
   "execution_count": 27,
   "id": "acd9b341",
   "metadata": {},
   "outputs": [],
   "source": [
    "import pandas as pd\n",
    "import numpy as np\n",
    "from sklearn.model_selection import GridSearchCV\n",
    "from sklearn.linear_model import Lasso\n",
    "from sklearn.model_selection import train_test_split\n",
    "from sklearn.naive_bayes import GaussianNB,MultinomialNB\n",
    "from sklearn import metrics"
   ]
  },
  {
   "cell_type": "markdown",
   "id": "a191d877",
   "metadata": {},
   "source": [
    "#####  Reading csv data which is already cleaned"
   ]
  },
  {
   "cell_type": "code",
   "execution_count": 2,
   "id": "b8a88aa1",
   "metadata": {},
   "outputs": [],
   "source": [
    "df = pd.read_csv(\"D:\\\\Machine Learning Datasets\\\\Datasets\\\\cleaned_stack_over_flow_db.csv\")"
   ]
  },
  {
   "cell_type": "code",
   "execution_count": 3,
   "id": "1a6d8021",
   "metadata": {},
   "outputs": [
    {
     "data": {
      "text/html": [
       "<div>\n",
       "<style scoped>\n",
       "    .dataframe tbody tr th:only-of-type {\n",
       "        vertical-align: middle;\n",
       "    }\n",
       "\n",
       "    .dataframe tbody tr th {\n",
       "        vertical-align: top;\n",
       "    }\n",
       "\n",
       "    .dataframe thead th {\n",
       "        text-align: right;\n",
       "    }\n",
       "</style>\n",
       "<table border=\"1\" class=\"dataframe\">\n",
       "  <thead>\n",
       "    <tr style=\"text-align: right;\">\n",
       "      <th></th>\n",
       "      <th>Unnamed: 0.2</th>\n",
       "      <th>Unnamed: 0.1</th>\n",
       "      <th>Unnamed: 0</th>\n",
       "      <th>Title</th>\n",
       "      <th>BodyMarkdown</th>\n",
       "      <th>OpenStatus</th>\n",
       "      <th>text</th>\n",
       "      <th>text_after_removing_html</th>\n",
       "      <th>text_after_removing_url</th>\n",
       "      <th>text_after_removing_numbers</th>\n",
       "      <th>text_after_removing_filename_and_extension</th>\n",
       "      <th>text_after_removing_punctuation</th>\n",
       "      <th>text_after_removing_any_chars_between_curly_bracket</th>\n",
       "      <th>text_after_lemmatization</th>\n",
       "    </tr>\n",
       "  </thead>\n",
       "  <tbody>\n",
       "    <tr>\n",
       "      <th>0</th>\n",
       "      <td>0</td>\n",
       "      <td>0</td>\n",
       "      <td>0</td>\n",
       "      <td>Decimal vs Double?</td>\n",
       "      <td>I'm new to C#, and I want to use a trackbar fo...</td>\n",
       "      <td>0</td>\n",
       "      <td>Decimal vs Double? I'm new to C#, and I want t...</td>\n",
       "      <td>Decimal vs Double? I'm new to C#, and I want t...</td>\n",
       "      <td>Decimal vs Double? I'm new to C#, and I want t...</td>\n",
       "      <td>Decimal vs Double? I'm new to C#, and I want t...</td>\n",
       "      <td>Decimal vs Double? I'm new to C#, and I want t...</td>\n",
       "      <td>Decimal vs Double I'm new to C and I want to u...</td>\n",
       "      <td>Decimal vs Double? I'm new to C#, and I want t...</td>\n",
       "      <td>Decimal Double be new C want use trackbar for...</td>\n",
       "    </tr>\n",
       "    <tr>\n",
       "      <th>1</th>\n",
       "      <td>1</td>\n",
       "      <td>1</td>\n",
       "      <td>1</td>\n",
       "      <td>Percentage width child in absolutely positione...</td>\n",
       "      <td>I've got an absolutely positioned div containi...</td>\n",
       "      <td>0</td>\n",
       "      <td>Percentage width child in absolutely positione...</td>\n",
       "      <td>Percentage width child in absolutely positione...</td>\n",
       "      <td>Percentage width child in absolutely positione...</td>\n",
       "      <td>Percentage width child in absolutely positione...</td>\n",
       "      <td>Percentage width child in absolutely positione...</td>\n",
       "      <td>Percentage width child in absolutely positione...</td>\n",
       "      <td>Percentage width child in absolutely positione...</td>\n",
       "      <td>percentage width child absolutely position pa...</td>\n",
       "    </tr>\n",
       "    <tr>\n",
       "      <th>2</th>\n",
       "      <td>2</td>\n",
       "      <td>2</td>\n",
       "      <td>2</td>\n",
       "      <td>Tools for porting J# code to C#</td>\n",
       "      <td>Are there any conversion tools for porting Vis...</td>\n",
       "      <td>0</td>\n",
       "      <td>Tools for porting J# code to C# Are there any ...</td>\n",
       "      <td>Tools for porting J# code to C# Are there any ...</td>\n",
       "      <td>Tools for porting J# code to C# Are there any ...</td>\n",
       "      <td>Tools for porting J# code to C# Are there any ...</td>\n",
       "      <td>Tools for porting J# code to C# Are there any ...</td>\n",
       "      <td>Tools for porting J code to C Are there any co...</td>\n",
       "      <td>Tools for porting J# code to C# Are there any ...</td>\n",
       "      <td>tool port J code C be conversion tool port Vi...</td>\n",
       "    </tr>\n",
       "    <tr>\n",
       "      <th>3</th>\n",
       "      <td>3</td>\n",
       "      <td>3</td>\n",
       "      <td>3</td>\n",
       "      <td>How do I calculate someone's age in c#?</td>\n",
       "      <td>Given a DateTime representing their birthday, ...</td>\n",
       "      <td>0</td>\n",
       "      <td>How do I calculate someone's age in c#? Given ...</td>\n",
       "      <td>How do I calculate someone's age in c#? Given ...</td>\n",
       "      <td>How do I calculate someone's age in c#? Given ...</td>\n",
       "      <td>How do I calculate someone's age in c#? Given ...</td>\n",
       "      <td>How do I calculate someone's age in c#? Given ...</td>\n",
       "      <td>How do I calculate someone's age in c Given a ...</td>\n",
       "      <td>How do I calculate someone's age in c#? Given ...</td>\n",
       "      <td>do calculate someone age c give DateTime repr...</td>\n",
       "    </tr>\n",
       "    <tr>\n",
       "      <th>4</th>\n",
       "      <td>4</td>\n",
       "      <td>4</td>\n",
       "      <td>4</td>\n",
       "      <td>retrieve data from NSUserDefaults to TableView</td>\n",
       "      <td>I save values of two labels through NSUserDefa...</td>\n",
       "      <td>0</td>\n",
       "      <td>retrieve data from NSUserDefaults to TableView...</td>\n",
       "      <td>retrieve data from NSUserDefaults to TableView...</td>\n",
       "      <td>retrieve data from NSUserDefaults to TableView...</td>\n",
       "      <td>retrieve data from NSUserDefaults to TableView...</td>\n",
       "      <td>retrieve data from NSUserDefaults to TableView...</td>\n",
       "      <td>retrieve data from NSUserDefaults to TableView...</td>\n",
       "      <td>retrieve data from NSUserDefaults to TableView...</td>\n",
       "      <td>retrieve datum nsuserdefault TableView save v...</td>\n",
       "    </tr>\n",
       "  </tbody>\n",
       "</table>\n",
       "</div>"
      ],
      "text/plain": [
       "   Unnamed: 0.2  Unnamed: 0.1  Unnamed: 0  \\\n",
       "0             0             0           0   \n",
       "1             1             1           1   \n",
       "2             2             2           2   \n",
       "3             3             3           3   \n",
       "4             4             4           4   \n",
       "\n",
       "                                               Title  \\\n",
       "0                                 Decimal vs Double?   \n",
       "1  Percentage width child in absolutely positione...   \n",
       "2                    Tools for porting J# code to C#   \n",
       "3            How do I calculate someone's age in c#?   \n",
       "4     retrieve data from NSUserDefaults to TableView   \n",
       "\n",
       "                                        BodyMarkdown  OpenStatus  \\\n",
       "0  I'm new to C#, and I want to use a trackbar fo...           0   \n",
       "1  I've got an absolutely positioned div containi...           0   \n",
       "2  Are there any conversion tools for porting Vis...           0   \n",
       "3  Given a DateTime representing their birthday, ...           0   \n",
       "4  I save values of two labels through NSUserDefa...           0   \n",
       "\n",
       "                                                text  \\\n",
       "0  Decimal vs Double? I'm new to C#, and I want t...   \n",
       "1  Percentage width child in absolutely positione...   \n",
       "2  Tools for porting J# code to C# Are there any ...   \n",
       "3  How do I calculate someone's age in c#? Given ...   \n",
       "4  retrieve data from NSUserDefaults to TableView...   \n",
       "\n",
       "                            text_after_removing_html  \\\n",
       "0  Decimal vs Double? I'm new to C#, and I want t...   \n",
       "1  Percentage width child in absolutely positione...   \n",
       "2  Tools for porting J# code to C# Are there any ...   \n",
       "3  How do I calculate someone's age in c#? Given ...   \n",
       "4  retrieve data from NSUserDefaults to TableView...   \n",
       "\n",
       "                             text_after_removing_url  \\\n",
       "0  Decimal vs Double? I'm new to C#, and I want t...   \n",
       "1  Percentage width child in absolutely positione...   \n",
       "2  Tools for porting J# code to C# Are there any ...   \n",
       "3  How do I calculate someone's age in c#? Given ...   \n",
       "4  retrieve data from NSUserDefaults to TableView...   \n",
       "\n",
       "                         text_after_removing_numbers  \\\n",
       "0  Decimal vs Double? I'm new to C#, and I want t...   \n",
       "1  Percentage width child in absolutely positione...   \n",
       "2  Tools for porting J# code to C# Are there any ...   \n",
       "3  How do I calculate someone's age in c#? Given ...   \n",
       "4  retrieve data from NSUserDefaults to TableView...   \n",
       "\n",
       "          text_after_removing_filename_and_extension  \\\n",
       "0  Decimal vs Double? I'm new to C#, and I want t...   \n",
       "1  Percentage width child in absolutely positione...   \n",
       "2  Tools for porting J# code to C# Are there any ...   \n",
       "3  How do I calculate someone's age in c#? Given ...   \n",
       "4  retrieve data from NSUserDefaults to TableView...   \n",
       "\n",
       "                     text_after_removing_punctuation  \\\n",
       "0  Decimal vs Double I'm new to C and I want to u...   \n",
       "1  Percentage width child in absolutely positione...   \n",
       "2  Tools for porting J code to C Are there any co...   \n",
       "3  How do I calculate someone's age in c Given a ...   \n",
       "4  retrieve data from NSUserDefaults to TableView...   \n",
       "\n",
       "  text_after_removing_any_chars_between_curly_bracket  \\\n",
       "0  Decimal vs Double? I'm new to C#, and I want t...    \n",
       "1  Percentage width child in absolutely positione...    \n",
       "2  Tools for porting J# code to C# Are there any ...    \n",
       "3  How do I calculate someone's age in c#? Given ...    \n",
       "4  retrieve data from NSUserDefaults to TableView...    \n",
       "\n",
       "                            text_after_lemmatization  \n",
       "0   Decimal Double be new C want use trackbar for...  \n",
       "1   percentage width child absolutely position pa...  \n",
       "2   tool port J code C be conversion tool port Vi...  \n",
       "3   do calculate someone age c give DateTime repr...  \n",
       "4   retrieve datum nsuserdefault TableView save v...  "
      ]
     },
     "execution_count": 3,
     "metadata": {},
     "output_type": "execute_result"
    }
   ],
   "source": [
    "df.head()"
   ]
  },
  {
   "cell_type": "markdown",
   "id": "f47de799",
   "metadata": {},
   "source": [
    "#### Find the best features in the datasets\n",
    "\n",
    "##### Lasso regression: Lasso regression is a linear model that uses L1 regularization to shrink the coefficients of less important features to zero."
   ]
  },
  {
   "cell_type": "code",
   "execution_count": 6,
   "id": "e7e32efc",
   "metadata": {},
   "outputs": [],
   "source": [
    "# Define the parameter grid to search\n",
    "param_grid = {'alpha': [20000, 30000, 50000, 100000, 150000]}\n",
    "\n",
    "# Create the Lasso regression model\n",
    "lasso = Lasso(alpha=0.1)\n",
    "\n",
    "# Create the grid search object\n",
    "grid_search = GridSearchCV(lasso, param_grid, cv=5,scoring='neg_mean_squared_error')"
   ]
  },
  {
   "cell_type": "code",
   "execution_count": 7,
   "id": "b96be620",
   "metadata": {},
   "outputs": [],
   "source": [
    "from sklearn.feature_extraction.text import CountVectorizer\n",
    "\n",
    "vectorizer = CountVectorizer()"
   ]
  },
  {
   "cell_type": "code",
   "execution_count": 8,
   "id": "9c85bdf0",
   "metadata": {},
   "outputs": [],
   "source": [
    "X = vectorizer.fit_transform(df[\"text_after_lemmatization\"])"
   ]
  },
  {
   "cell_type": "code",
   "execution_count": 9,
   "id": "50bdcbf8",
   "metadata": {},
   "outputs": [],
   "source": [
    "y = df[\"OpenStatus\"]"
   ]
  },
  {
   "cell_type": "code",
   "execution_count": 10,
   "id": "b793f230",
   "metadata": {},
   "outputs": [
    {
     "ename": "NameError",
     "evalue": "name 'best_num_featuares' is not defined",
     "output_type": "error",
     "traceback": [
      "\u001b[1;31m---------------------------------------------------------------------------\u001b[0m",
      "\u001b[1;31mNameError\u001b[0m                                 Traceback (most recent call last)",
      "Input \u001b[1;32mIn [10]\u001b[0m, in \u001b[0;36m<cell line: 7>\u001b[1;34m()\u001b[0m\n\u001b[0;32m      4\u001b[0m \u001b[38;5;66;03m# The best value of num_features is stored in the best_params_ attribute\u001b[39;00m\n\u001b[0;32m      5\u001b[0m best_num_features \u001b[38;5;241m=\u001b[39m grid_search\u001b[38;5;241m.\u001b[39mbest_params_[\u001b[38;5;124m'\u001b[39m\u001b[38;5;124malpha\u001b[39m\u001b[38;5;124m'\u001b[39m]\n\u001b[1;32m----> 7\u001b[0m \u001b[38;5;28mprint\u001b[39m(\u001b[43mbest_num_featuares\u001b[49m)\n",
      "\u001b[1;31mNameError\u001b[0m: name 'best_num_featuares' is not defined"
     ]
    }
   ],
   "source": [
    "# Fit the GridSearchCV object to the data\n",
    "grid_search.fit(X, y)\n",
    "\n",
    "# The best value of num_features is stored in the best_params_ attribute\n",
    "best_num_features = grid_search.best_params_['alpha']\n",
    "\n"
   ]
  },
  {
   "cell_type": "code",
   "execution_count": 11,
   "id": "bb679399",
   "metadata": {},
   "outputs": [
    {
     "name": "stdout",
     "output_type": "stream",
     "text": [
      "20000\n"
     ]
    }
   ],
   "source": [
    "print(best_num_features)"
   ]
  },
  {
   "cell_type": "code",
   "execution_count": 13,
   "id": "b38c9854",
   "metadata": {},
   "outputs": [],
   "source": [
    "lasso.fit(X,y)\n",
    "\n",
    "importance_scores = np.abs(lasso.coef_)"
   ]
  },
  {
   "cell_type": "code",
   "execution_count": 14,
   "id": "f3545f50",
   "metadata": {},
   "outputs": [],
   "source": [
    "selected_features = np.argsort(importance_scores)[::-1][:best_num_features]\n",
    "X_selected = X[:, selected_features]"
   ]
  },
  {
   "cell_type": "code",
   "execution_count": 16,
   "id": "85853e6a",
   "metadata": {},
   "outputs": [
    {
     "data": {
      "text/plain": [
       "(100000, 20000)"
      ]
     },
     "execution_count": 16,
     "metadata": {},
     "output_type": "execute_result"
    }
   ],
   "source": [
    "X_selected.shape"
   ]
  },
  {
   "cell_type": "code",
   "execution_count": 18,
   "id": "49e3816a",
   "metadata": {},
   "outputs": [],
   "source": [
    "X_train, X_test, y_train, y_test = train_test_split(X_selected, y, test_size=0.2, random_state=1)"
   ]
  },
  {
   "cell_type": "code",
   "execution_count": 30,
   "id": "d1878c82",
   "metadata": {},
   "outputs": [],
   "source": [
    "model_nb = MultinomialNB()"
   ]
  },
  {
   "cell_type": "code",
   "execution_count": 31,
   "id": "7730036d",
   "metadata": {},
   "outputs": [],
   "source": [
    "from scipy.sparse import csr_matrix\n",
    "\n",
    "sparse_matrix = csr_matrix(X_train)"
   ]
  },
  {
   "cell_type": "code",
   "execution_count": 32,
   "id": "8b613fef",
   "metadata": {},
   "outputs": [
    {
     "name": "stdout",
     "output_type": "stream",
     "text": [
      "  (0, 2)\t4\n",
      "  (0, 3087)\t1\n",
      "  (0, 0)\t1\n",
      "  (0, 10103)\t1\n",
      "  (0, 9029)\t1\n",
      "  (2, 2)\t5\n",
      "  (2, 0)\t2\n",
      "  (2, 10103)\t1\n",
      "  (2, 9029)\t3\n",
      "  (2, 18090)\t1\n",
      "  (3, 2)\t5\n",
      "  (3, 3087)\t1\n",
      "  (3, 0)\t2\n",
      "  (3, 9029)\t1\n",
      "  (3, 17295)\t1\n",
      "  (4, 2)\t6\n",
      "  (4, 0)\t3\n",
      "  (4, 9029)\t2\n",
      "  (4, 1)\t1\n",
      "  (4, 12661)\t1\n",
      "  (4, 13871)\t1\n",
      "  (4, 17334)\t1\n",
      "  (4, 17376)\t1\n",
      "  (5, 2)\t8\n",
      "  (5, 0)\t2\n",
      "  :\t:\n",
      "  (79994, 2)\t1\n",
      "  (79994, 17295)\t2\n",
      "  (79995, 0)\t1\n",
      "  (79995, 1)\t1\n",
      "  (79996, 13329)\t2\n",
      "  (79996, 8705)\t2\n",
      "  (79996, 9029)\t2\n",
      "  (79996, 16524)\t1\n",
      "  (79996, 8052)\t1\n",
      "  (79996, 5531)\t1\n",
      "  (79997, 2)\t5\n",
      "  (79997, 0)\t2\n",
      "  (79997, 1)\t2\n",
      "  (79997, 18898)\t1\n",
      "  (79997, 3326)\t2\n",
      "  (79998, 19535)\t1\n",
      "  (79998, 4337)\t1\n",
      "  (79998, 14735)\t1\n",
      "  (79999, 2)\t1\n",
      "  (79999, 4072)\t2\n",
      "  (79999, 1610)\t1\n",
      "  (79999, 8052)\t1\n",
      "  (79999, 3260)\t2\n",
      "  (79999, 608)\t1\n",
      "  (79999, 630)\t1\n"
     ]
    }
   ],
   "source": [
    "print(sparse_matrix)"
   ]
  },
  {
   "cell_type": "code",
   "execution_count": 40,
   "id": "474da08c",
   "metadata": {},
   "outputs": [
    {
     "data": {
      "text/html": [
       "<style>#sk-container-id-3 {color: black;background-color: white;}#sk-container-id-3 pre{padding: 0;}#sk-container-id-3 div.sk-toggleable {background-color: white;}#sk-container-id-3 label.sk-toggleable__label {cursor: pointer;display: block;width: 100%;margin-bottom: 0;padding: 0.3em;box-sizing: border-box;text-align: center;}#sk-container-id-3 label.sk-toggleable__label-arrow:before {content: \"▸\";float: left;margin-right: 0.25em;color: #696969;}#sk-container-id-3 label.sk-toggleable__label-arrow:hover:before {color: black;}#sk-container-id-3 div.sk-estimator:hover label.sk-toggleable__label-arrow:before {color: black;}#sk-container-id-3 div.sk-toggleable__content {max-height: 0;max-width: 0;overflow: hidden;text-align: left;background-color: #f0f8ff;}#sk-container-id-3 div.sk-toggleable__content pre {margin: 0.2em;color: black;border-radius: 0.25em;background-color: #f0f8ff;}#sk-container-id-3 input.sk-toggleable__control:checked~div.sk-toggleable__content {max-height: 200px;max-width: 100%;overflow: auto;}#sk-container-id-3 input.sk-toggleable__control:checked~label.sk-toggleable__label-arrow:before {content: \"▾\";}#sk-container-id-3 div.sk-estimator input.sk-toggleable__control:checked~label.sk-toggleable__label {background-color: #d4ebff;}#sk-container-id-3 div.sk-label input.sk-toggleable__control:checked~label.sk-toggleable__label {background-color: #d4ebff;}#sk-container-id-3 input.sk-hidden--visually {border: 0;clip: rect(1px 1px 1px 1px);clip: rect(1px, 1px, 1px, 1px);height: 1px;margin: -1px;overflow: hidden;padding: 0;position: absolute;width: 1px;}#sk-container-id-3 div.sk-estimator {font-family: monospace;background-color: #f0f8ff;border: 1px dotted black;border-radius: 0.25em;box-sizing: border-box;margin-bottom: 0.5em;}#sk-container-id-3 div.sk-estimator:hover {background-color: #d4ebff;}#sk-container-id-3 div.sk-parallel-item::after {content: \"\";width: 100%;border-bottom: 1px solid gray;flex-grow: 1;}#sk-container-id-3 div.sk-label:hover label.sk-toggleable__label {background-color: #d4ebff;}#sk-container-id-3 div.sk-serial::before {content: \"\";position: absolute;border-left: 1px solid gray;box-sizing: border-box;top: 0;bottom: 0;left: 50%;z-index: 0;}#sk-container-id-3 div.sk-serial {display: flex;flex-direction: column;align-items: center;background-color: white;padding-right: 0.2em;padding-left: 0.2em;position: relative;}#sk-container-id-3 div.sk-item {position: relative;z-index: 1;}#sk-container-id-3 div.sk-parallel {display: flex;align-items: stretch;justify-content: center;background-color: white;position: relative;}#sk-container-id-3 div.sk-item::before, #sk-container-id-3 div.sk-parallel-item::before {content: \"\";position: absolute;border-left: 1px solid gray;box-sizing: border-box;top: 0;bottom: 0;left: 50%;z-index: -1;}#sk-container-id-3 div.sk-parallel-item {display: flex;flex-direction: column;z-index: 1;position: relative;background-color: white;}#sk-container-id-3 div.sk-parallel-item:first-child::after {align-self: flex-end;width: 50%;}#sk-container-id-3 div.sk-parallel-item:last-child::after {align-self: flex-start;width: 50%;}#sk-container-id-3 div.sk-parallel-item:only-child::after {width: 0;}#sk-container-id-3 div.sk-dashed-wrapped {border: 1px dashed gray;margin: 0 0.4em 0.5em 0.4em;box-sizing: border-box;padding-bottom: 0.4em;background-color: white;}#sk-container-id-3 div.sk-label label {font-family: monospace;font-weight: bold;display: inline-block;line-height: 1.2em;}#sk-container-id-3 div.sk-label-container {text-align: center;}#sk-container-id-3 div.sk-container {/* jupyter's `normalize.less` sets `[hidden] { display: none; }` but bootstrap.min.css set `[hidden] { display: none !important; }` so we also need the `!important` here to be able to override the default hidden behavior on the sphinx rendered scikit-learn.org. See: https://github.com/scikit-learn/scikit-learn/issues/21755 */display: inline-block !important;position: relative;}#sk-container-id-3 div.sk-text-repr-fallback {display: none;}</style><div id=\"sk-container-id-3\" class=\"sk-top-container\"><div class=\"sk-text-repr-fallback\"><pre>MultinomialNB()</pre><b>In a Jupyter environment, please rerun this cell to show the HTML representation or trust the notebook. <br />On GitHub, the HTML representation is unable to render, please try loading this page with nbviewer.org.</b></div><div class=\"sk-container\" hidden><div class=\"sk-item\"><div class=\"sk-estimator sk-toggleable\"><input class=\"sk-toggleable__control sk-hidden--visually\" id=\"sk-estimator-id-3\" type=\"checkbox\" checked><label for=\"sk-estimator-id-3\" class=\"sk-toggleable__label sk-toggleable__label-arrow\">MultinomialNB</label><div class=\"sk-toggleable__content\"><pre>MultinomialNB()</pre></div></div></div></div></div>"
      ],
      "text/plain": [
       "MultinomialNB()"
      ]
     },
     "execution_count": 40,
     "metadata": {},
     "output_type": "execute_result"
    }
   ],
   "source": [
    "model_nb.fit(X_train, y_train)"
   ]
  },
  {
   "cell_type": "code",
   "execution_count": 41,
   "id": "ee9257e7",
   "metadata": {},
   "outputs": [],
   "source": [
    "# making predictions on the testing set\n",
    "y_pred = model_nb.predict(X_test)"
   ]
  },
  {
   "cell_type": "code",
   "execution_count": 42,
   "id": "4266783b",
   "metadata": {},
   "outputs": [
    {
     "data": {
      "text/plain": [
       "61.485"
      ]
     },
     "execution_count": 42,
     "metadata": {},
     "output_type": "execute_result"
    }
   ],
   "source": [
    "metrics.accuracy_score(y_test, y_pred)*100"
   ]
  },
  {
   "cell_type": "code",
   "execution_count": null,
   "id": "6c3342b2",
   "metadata": {},
   "outputs": [],
   "source": []
  }
 ],
 "metadata": {
  "kernelspec": {
   "display_name": "Python 3 (ipykernel)",
   "language": "python",
   "name": "python3"
  },
  "language_info": {
   "codemirror_mode": {
    "name": "ipython",
    "version": 3
   },
   "file_extension": ".py",
   "mimetype": "text/x-python",
   "name": "python",
   "nbconvert_exporter": "python",
   "pygments_lexer": "ipython3",
   "version": "3.10.4"
  }
 },
 "nbformat": 4,
 "nbformat_minor": 5
}
