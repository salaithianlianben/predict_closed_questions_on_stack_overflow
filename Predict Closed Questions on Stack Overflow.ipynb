{
 "cells": [
  {
   "cell_type": "code",
   "execution_count": 1,
   "id": "7315190b",
   "metadata": {},
   "outputs": [],
   "source": [
    "import pandas as pd\n",
    "import numpy as np"
   ]
  },
  {
   "cell_type": "code",
   "execution_count": 2,
   "id": "b8843f98",
   "metadata": {},
   "outputs": [],
   "source": [
    "df = pd.read_csv(\"D:/Machine Learning Datasets/Datasets/stack_over_flow_db.csv\")"
   ]
  },
  {
   "cell_type": "code",
   "execution_count": 3,
   "id": "7ee1eb0e",
   "metadata": {},
   "outputs": [
    {
     "data": {
      "text/html": [
       "<div>\n",
       "<style scoped>\n",
       "    .dataframe tbody tr th:only-of-type {\n",
       "        vertical-align: middle;\n",
       "    }\n",
       "\n",
       "    .dataframe tbody tr th {\n",
       "        vertical-align: top;\n",
       "    }\n",
       "\n",
       "    .dataframe thead th {\n",
       "        text-align: right;\n",
       "    }\n",
       "</style>\n",
       "<table border=\"1\" class=\"dataframe\">\n",
       "  <thead>\n",
       "    <tr style=\"text-align: right;\">\n",
       "      <th></th>\n",
       "      <th>Unnamed: 0</th>\n",
       "      <th>Title</th>\n",
       "      <th>BodyMarkdown</th>\n",
       "      <th>OpenStatus</th>\n",
       "    </tr>\n",
       "  </thead>\n",
       "  <tbody>\n",
       "    <tr>\n",
       "      <th>0</th>\n",
       "      <td>0</td>\n",
       "      <td>Decimal vs Double?</td>\n",
       "      <td>I'm new to C#, and I want to use a trackbar fo...</td>\n",
       "      <td>0</td>\n",
       "    </tr>\n",
       "    <tr>\n",
       "      <th>1</th>\n",
       "      <td>1</td>\n",
       "      <td>Percentage width child in absolutely positione...</td>\n",
       "      <td>I've got an absolutely positioned div containi...</td>\n",
       "      <td>0</td>\n",
       "    </tr>\n",
       "    <tr>\n",
       "      <th>2</th>\n",
       "      <td>2</td>\n",
       "      <td>Tools for porting J# code to C#</td>\n",
       "      <td>Are there any conversion tools for porting Vis...</td>\n",
       "      <td>0</td>\n",
       "    </tr>\n",
       "    <tr>\n",
       "      <th>3</th>\n",
       "      <td>3</td>\n",
       "      <td>How do I calculate someone's age in c#?</td>\n",
       "      <td>Given a DateTime representing their birthday, ...</td>\n",
       "      <td>0</td>\n",
       "    </tr>\n",
       "    <tr>\n",
       "      <th>4</th>\n",
       "      <td>4</td>\n",
       "      <td>retrieve data from NSUserDefaults to TableView</td>\n",
       "      <td>I save values of two labels through NSUserDefa...</td>\n",
       "      <td>0</td>\n",
       "    </tr>\n",
       "  </tbody>\n",
       "</table>\n",
       "</div>"
      ],
      "text/plain": [
       "   Unnamed: 0                                              Title  \\\n",
       "0           0                                 Decimal vs Double?   \n",
       "1           1  Percentage width child in absolutely positione...   \n",
       "2           2                    Tools for porting J# code to C#   \n",
       "3           3            How do I calculate someone's age in c#?   \n",
       "4           4     retrieve data from NSUserDefaults to TableView   \n",
       "\n",
       "                                        BodyMarkdown  OpenStatus  \n",
       "0  I'm new to C#, and I want to use a trackbar fo...           0  \n",
       "1  I've got an absolutely positioned div containi...           0  \n",
       "2  Are there any conversion tools for porting Vis...           0  \n",
       "3  Given a DateTime representing their birthday, ...           0  \n",
       "4  I save values of two labels through NSUserDefa...           0  "
      ]
     },
     "execution_count": 3,
     "metadata": {},
     "output_type": "execute_result"
    }
   ],
   "source": [
    "df.head()"
   ]
  },
  {
   "cell_type": "code",
   "execution_count": 4,
   "id": "9825d59c",
   "metadata": {},
   "outputs": [],
   "source": [
    "# Removing html tags\n",
    "import re\n",
    "\n",
    "def remove_html_tags(text):\n",
    "    \"\"\"Remove html tags from a string\"\"\"\n",
    "    clean = re.compile('<.*?>')\n",
    "    return re.sub(clean, '', text)"
   ]
  },
  {
   "cell_type": "code",
   "execution_count": 5,
   "id": "e3c13d3a",
   "metadata": {},
   "outputs": [],
   "source": [
    "# Removing url from a string\n",
    "\n",
    "def remove_url(text):\n",
    "    \"\"\"Remove url from a string\"\"\"\n",
    "    return re.sub(r'http\\S+', '', text)"
   ]
  },
  {
   "cell_type": "code",
   "execution_count": 6,
   "id": "cc5a4b04",
   "metadata": {},
   "outputs": [],
   "source": [
    "# Removing numbers from a string\n",
    "\n",
    "def remove_numbers(text):\n",
    "    \"\"\"Remove numeric from a string\"\"\"\n",
    "    return re.sub(r'(^|\\W)\\d+', \"\", text)"
   ]
  },
  {
   "cell_type": "code",
   "execution_count": 7,
   "id": "ccf4c3e5",
   "metadata": {},
   "outputs": [],
   "source": [
    "# Removing filename and extension from a string\n",
    "\n",
    "def remove_filename_and_ext(text):\n",
    "    \"\"\" Remove filename and extension from a string\"\"\"\n",
    "    return re.sub(r'[\\w-]+\\.([A-Za-z]{3}|[A-Za-z]{2})', '',text)"
   ]
  },
  {
   "cell_type": "code",
   "execution_count": 8,
   "id": "426d3d90",
   "metadata": {},
   "outputs": [],
   "source": [
    "import string\n",
    "\n",
    "NON_PUNCTUATION = r\"[!\\\"#\\$%&\\(\\)\\*\\+,-\\./:;<=>\\?@\\[\\\\\\]\\^_`{\\|}~0-9]\"\n",
    "\n",
    "def remove_punctuation(text):\n",
    "    no_punctuation_text = re.sub(NON_PUNCTUATION, \"\", text, 0, re.MULTILINE)\n",
    "    return no_punctuation_text"
   ]
  },
  {
   "cell_type": "code",
   "execution_count": 24,
   "id": "245452ff",
   "metadata": {},
   "outputs": [],
   "source": [
    "# Removing any character between { } curly bracket\n",
    "\n",
    "def remove_inside_curly_bracket(text):\n",
    "    return re.sub(r'\\{([^}]+)\\}','', text)"
   ]
  },
  {
   "cell_type": "code",
   "execution_count": 34,
   "id": "6ff914d7",
   "metadata": {},
   "outputs": [],
   "source": [
    "df[\"text\"] = df[\"Title\"]+\" \"+df[\"BodyMarkdown\"]"
   ]
  },
  {
   "cell_type": "code",
   "execution_count": 35,
   "id": "2c1181c5",
   "metadata": {},
   "outputs": [],
   "source": [
    "df[\"text_after_removing_any_chars_between_curly_bracket\"] = df[\"text\"].apply(remove_inside_curly_bracket)"
   ]
  },
  {
   "cell_type": "code",
   "execution_count": 36,
   "id": "28d9e4ad",
   "metadata": {},
   "outputs": [],
   "source": [
    "df[\"text_after_removing_html\"] = df[\"text_after_removing_any_chars_between_curly_bracket\"].apply(remove_html_tags)"
   ]
  },
  {
   "cell_type": "code",
   "execution_count": 37,
   "id": "3c475809",
   "metadata": {},
   "outputs": [],
   "source": [
    "df[\"text_after_removing_url\"] = df[\"text_after_removing_html\"].apply(remove_url)"
   ]
  },
  {
   "cell_type": "code",
   "execution_count": 38,
   "id": "0e47ba73",
   "metadata": {},
   "outputs": [],
   "source": [
    "df[\"text_after_removing_numbers\"] = df[\"text_after_removing_url\"].apply(remove_numbers)"
   ]
  },
  {
   "cell_type": "code",
   "execution_count": 39,
   "id": "ae34382b",
   "metadata": {},
   "outputs": [],
   "source": [
    "df[\"text_after_removing_filename_and_extension\"] = df[\"text_after_removing_numbers\"].apply(remove_filename_and_ext)"
   ]
  },
  {
   "cell_type": "code",
   "execution_count": 40,
   "id": "56f18b89",
   "metadata": {},
   "outputs": [],
   "source": [
    "df[\"text_after_removing_punctuation\"] = df[\"text_after_removing_filename_and_extension\"].apply(remove_punctuation)"
   ]
  },
  {
   "cell_type": "code",
   "execution_count": 41,
   "id": "289968ee",
   "metadata": {
    "scrolled": true
   },
   "outputs": [
    {
     "data": {
      "text/html": [
       "<div>\n",
       "<style scoped>\n",
       "    .dataframe tbody tr th:only-of-type {\n",
       "        vertical-align: middle;\n",
       "    }\n",
       "\n",
       "    .dataframe tbody tr th {\n",
       "        vertical-align: top;\n",
       "    }\n",
       "\n",
       "    .dataframe thead th {\n",
       "        text-align: right;\n",
       "    }\n",
       "</style>\n",
       "<table border=\"1\" class=\"dataframe\">\n",
       "  <thead>\n",
       "    <tr style=\"text-align: right;\">\n",
       "      <th></th>\n",
       "      <th>Unnamed: 0</th>\n",
       "      <th>Title</th>\n",
       "      <th>BodyMarkdown</th>\n",
       "      <th>OpenStatus</th>\n",
       "      <th>text</th>\n",
       "      <th>text_after_removing_html</th>\n",
       "      <th>text_after_removing_url</th>\n",
       "      <th>text_after_removing_numbers</th>\n",
       "      <th>text_after_removing_filename_and_extension</th>\n",
       "      <th>text_after_removing_punctuation</th>\n",
       "      <th>text_after_removing_any_chars_between_curly_bracket</th>\n",
       "    </tr>\n",
       "  </thead>\n",
       "  <tbody>\n",
       "    <tr>\n",
       "      <th>0</th>\n",
       "      <td>0</td>\n",
       "      <td>Decimal vs Double?</td>\n",
       "      <td>I'm new to C#, and I want to use a trackbar fo...</td>\n",
       "      <td>0</td>\n",
       "      <td>Decimal vs Double? I'm new to C#, and I want t...</td>\n",
       "      <td>Decimal vs Double? I'm new to C#, and I want t...</td>\n",
       "      <td>Decimal vs Double? I'm new to C#, and I want t...</td>\n",
       "      <td>Decimal vs Double? I'm new to C#, and I want t...</td>\n",
       "      <td>Decimal vs Double? I'm new to C#, and I want t...</td>\n",
       "      <td>Decimal vs Double I'm new to C and I want to u...</td>\n",
       "      <td>Decimal vs Double? I'm new to C#, and I want t...</td>\n",
       "    </tr>\n",
       "    <tr>\n",
       "      <th>1</th>\n",
       "      <td>1</td>\n",
       "      <td>Percentage width child in absolutely positione...</td>\n",
       "      <td>I've got an absolutely positioned div containi...</td>\n",
       "      <td>0</td>\n",
       "      <td>Percentage width child in absolutely positione...</td>\n",
       "      <td>Percentage width child in absolutely positione...</td>\n",
       "      <td>Percentage width child in absolutely positione...</td>\n",
       "      <td>Percentage width child in absolutely positione...</td>\n",
       "      <td>Percentage width child in absolutely positione...</td>\n",
       "      <td>Percentage width child in absolutely positione...</td>\n",
       "      <td>Percentage width child in absolutely positione...</td>\n",
       "    </tr>\n",
       "    <tr>\n",
       "      <th>2</th>\n",
       "      <td>2</td>\n",
       "      <td>Tools for porting J# code to C#</td>\n",
       "      <td>Are there any conversion tools for porting Vis...</td>\n",
       "      <td>0</td>\n",
       "      <td>Tools for porting J# code to C# Are there any ...</td>\n",
       "      <td>Tools for porting J# code to C# Are there any ...</td>\n",
       "      <td>Tools for porting J# code to C# Are there any ...</td>\n",
       "      <td>Tools for porting J# code to C# Are there any ...</td>\n",
       "      <td>Tools for porting J# code to C# Are there any ...</td>\n",
       "      <td>Tools for porting J code to C Are there any co...</td>\n",
       "      <td>Tools for porting J# code to C# Are there any ...</td>\n",
       "    </tr>\n",
       "    <tr>\n",
       "      <th>3</th>\n",
       "      <td>3</td>\n",
       "      <td>How do I calculate someone's age in c#?</td>\n",
       "      <td>Given a DateTime representing their birthday, ...</td>\n",
       "      <td>0</td>\n",
       "      <td>How do I calculate someone's age in c#? Given ...</td>\n",
       "      <td>How do I calculate someone's age in c#? Given ...</td>\n",
       "      <td>How do I calculate someone's age in c#? Given ...</td>\n",
       "      <td>How do I calculate someone's age in c#? Given ...</td>\n",
       "      <td>How do I calculate someone's age in c#? Given ...</td>\n",
       "      <td>How do I calculate someone's age in c Given a ...</td>\n",
       "      <td>How do I calculate someone's age in c#? Given ...</td>\n",
       "    </tr>\n",
       "    <tr>\n",
       "      <th>4</th>\n",
       "      <td>4</td>\n",
       "      <td>retrieve data from NSUserDefaults to TableView</td>\n",
       "      <td>I save values of two labels through NSUserDefa...</td>\n",
       "      <td>0</td>\n",
       "      <td>retrieve data from NSUserDefaults to TableView...</td>\n",
       "      <td>retrieve data from NSUserDefaults to TableView...</td>\n",
       "      <td>retrieve data from NSUserDefaults to TableView...</td>\n",
       "      <td>retrieve data from NSUserDefaults to TableView...</td>\n",
       "      <td>retrieve data from NSUserDefaults to TableView...</td>\n",
       "      <td>retrieve data from NSUserDefaults to TableView...</td>\n",
       "      <td>retrieve data from NSUserDefaults to TableView...</td>\n",
       "    </tr>\n",
       "  </tbody>\n",
       "</table>\n",
       "</div>"
      ],
      "text/plain": [
       "   Unnamed: 0                                              Title  \\\n",
       "0           0                                 Decimal vs Double?   \n",
       "1           1  Percentage width child in absolutely positione...   \n",
       "2           2                    Tools for porting J# code to C#   \n",
       "3           3            How do I calculate someone's age in c#?   \n",
       "4           4     retrieve data from NSUserDefaults to TableView   \n",
       "\n",
       "                                        BodyMarkdown  OpenStatus  \\\n",
       "0  I'm new to C#, and I want to use a trackbar fo...           0   \n",
       "1  I've got an absolutely positioned div containi...           0   \n",
       "2  Are there any conversion tools for porting Vis...           0   \n",
       "3  Given a DateTime representing their birthday, ...           0   \n",
       "4  I save values of two labels through NSUserDefa...           0   \n",
       "\n",
       "                                                text  \\\n",
       "0  Decimal vs Double? I'm new to C#, and I want t...   \n",
       "1  Percentage width child in absolutely positione...   \n",
       "2  Tools for porting J# code to C# Are there any ...   \n",
       "3  How do I calculate someone's age in c#? Given ...   \n",
       "4  retrieve data from NSUserDefaults to TableView...   \n",
       "\n",
       "                            text_after_removing_html  \\\n",
       "0  Decimal vs Double? I'm new to C#, and I want t...   \n",
       "1  Percentage width child in absolutely positione...   \n",
       "2  Tools for porting J# code to C# Are there any ...   \n",
       "3  How do I calculate someone's age in c#? Given ...   \n",
       "4  retrieve data from NSUserDefaults to TableView...   \n",
       "\n",
       "                             text_after_removing_url  \\\n",
       "0  Decimal vs Double? I'm new to C#, and I want t...   \n",
       "1  Percentage width child in absolutely positione...   \n",
       "2  Tools for porting J# code to C# Are there any ...   \n",
       "3  How do I calculate someone's age in c#? Given ...   \n",
       "4  retrieve data from NSUserDefaults to TableView...   \n",
       "\n",
       "                         text_after_removing_numbers  \\\n",
       "0  Decimal vs Double? I'm new to C#, and I want t...   \n",
       "1  Percentage width child in absolutely positione...   \n",
       "2  Tools for porting J# code to C# Are there any ...   \n",
       "3  How do I calculate someone's age in c#? Given ...   \n",
       "4  retrieve data from NSUserDefaults to TableView...   \n",
       "\n",
       "          text_after_removing_filename_and_extension  \\\n",
       "0  Decimal vs Double? I'm new to C#, and I want t...   \n",
       "1  Percentage width child in absolutely positione...   \n",
       "2  Tools for porting J# code to C# Are there any ...   \n",
       "3  How do I calculate someone's age in c#? Given ...   \n",
       "4  retrieve data from NSUserDefaults to TableView...   \n",
       "\n",
       "                     text_after_removing_punctuation  \\\n",
       "0  Decimal vs Double I'm new to C and I want to u...   \n",
       "1  Percentage width child in absolutely positione...   \n",
       "2  Tools for porting J code to C Are there any co...   \n",
       "3  How do I calculate someone's age in c Given a ...   \n",
       "4  retrieve data from NSUserDefaults to TableView...   \n",
       "\n",
       "  text_after_removing_any_chars_between_curly_bracket  \n",
       "0  Decimal vs Double? I'm new to C#, and I want t...   \n",
       "1  Percentage width child in absolutely positione...   \n",
       "2  Tools for porting J# code to C# Are there any ...   \n",
       "3  How do I calculate someone's age in c#? Given ...   \n",
       "4  retrieve data from NSUserDefaults to TableView...   "
      ]
     },
     "execution_count": 41,
     "metadata": {},
     "output_type": "execute_result"
    }
   ],
   "source": [
    "df.head(5)"
   ]
  },
  {
   "cell_type": "code",
   "execution_count": 42,
   "id": "7ff8e27a",
   "metadata": {},
   "outputs": [],
   "source": [
    "df.to_csv(\"D:/Machine Learning Datasets/Datasets/cleaned_stack_over_flow_db.csv\")"
   ]
  },
  {
   "cell_type": "code",
   "execution_count": 2,
   "id": "fdd22966",
   "metadata": {},
   "outputs": [],
   "source": [
    "df = pd.read_csv(\"D:/Machine Learning Datasets/Datasets/cleaned_stack_over_flow_db.csv\")"
   ]
  },
  {
   "cell_type": "code",
   "execution_count": 3,
   "id": "a384f4fe",
   "metadata": {},
   "outputs": [],
   "source": [
    "import spacy\n",
    "\n",
    "spacy.prefer_gpu()\n",
    "nlp = spacy.load(\"en_core_web_sm\")"
   ]
  },
  {
   "cell_type": "code",
   "execution_count": 11,
   "id": "3309fc41",
   "metadata": {},
   "outputs": [],
   "source": [
    "\n",
    "def do_lemmatization(text):\n",
    "    lemma_new = \"\"\n",
    "    doc = nlp(text)\n",
    "    for token in doc:\n",
    "        if token.tag_ in [\"JJ\",\"JJR\",\"JJS\",\"NN\",\"NNS\",\"NNP\",\"NNPS\",\"RB\",\"RBR\",\"RBS\",\"UH\",\"VB\",\"VBD\",\"VBG\",\"VBN\",\"VBP\",\"VBZ\"]:\n",
    "            word = token.text\n",
    "            word = word.lower()\n",
    "            lemma = token.lemma_\n",
    "            lemma_new = lemma_new + \" \" + lemma    \n",
    "    return lemma_new"
   ]
  },
  {
   "cell_type": "code",
   "execution_count": 12,
   "id": "a862f7a8",
   "metadata": {},
   "outputs": [],
   "source": [
    "df[\"text_after_lemmatization\"] = df[\"text_after_removing_punctuation\"].apply(do_lemmatization)"
   ]
  },
  {
   "cell_type": "code",
   "execution_count": 13,
   "id": "600126eb",
   "metadata": {},
   "outputs": [],
   "source": [
    "df.to_csv(\"D:/Machine Learning Datasets/Datasets/cleaned_stack_over_flow_db.csv\")"
   ]
  },
  {
   "cell_type": "code",
   "execution_count": null,
   "id": "9d8448f8",
   "metadata": {},
   "outputs": [],
   "source": []
  }
 ],
 "metadata": {
  "kernelspec": {
   "display_name": "Python 3 (ipykernel)",
   "language": "python",
   "name": "python3"
  },
  "language_info": {
   "codemirror_mode": {
    "name": "ipython",
    "version": 3
   },
   "file_extension": ".py",
   "mimetype": "text/x-python",
   "name": "python",
   "nbconvert_exporter": "python",
   "pygments_lexer": "ipython3",
   "version": "3.10.4"
  }
 },
 "nbformat": 4,
 "nbformat_minor": 5
}
